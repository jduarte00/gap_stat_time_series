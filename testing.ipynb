{
 "cells": [
  {
   "cell_type": "markdown",
   "id": "f2d8396c-f346-4179-a0ab-d39bc730e285",
   "metadata": {},
   "source": [
    "# Applying the gap statistic"
   ]
  },
  {
   "cell_type": "code",
   "execution_count": 31,
   "id": "07e5469e-e151-4c19-9e2d-aa24eeda4326",
   "metadata": {},
   "outputs": [],
   "source": [
    "import pandas as pd\n",
    "# https://github.com/milesgranger/gap_statistic\n",
    "import gap_statistic"
   ]
  },
  {
   "cell_type": "markdown",
   "id": "43b18469-654e-4dfa-9897-1afec6bdfd61",
   "metadata": {},
   "source": [
    "## Loading Data"
   ]
  },
  {
   "cell_type": "code",
   "execution_count": 40,
   "id": "35e6696e-7972-43e1-b8c1-4e0d414f1c05",
   "metadata": {},
   "outputs": [],
   "source": [
    "m_europeo_returns = pd.read_csv(\"/home/joseduarte/Desktop/european_market_returns.csv\", parse_dates=True, index_col = \"Date\")\n",
    "m_americano_returns = pd.read_csv(\"/home/joseduarte/Desktop/sp_500_returns.csv\", parse_dates=True, index_col = \"Date\")\n",
    "m_americano = pd.read_csv(\"/home/joseduarte/Desktop/sp_500_original_clean.csv\", parse_dates=True, index_col = \"Date\")\n",
    "m_europeo = pd.read_csv(\"/home/joseduarte/Desktop/european_market_original_clean.csv\", parse_dates=True, index_col = \"Date\")"
   ]
  },
  {
   "cell_type": "code",
   "execution_count": 41,
   "id": "4916a44d-d5f0-44de-a402-4f290a20b39e",
   "metadata": {},
   "outputs": [
    {
     "data": {
      "text/plain": [
       "(2449, 270)"
      ]
     },
     "execution_count": 41,
     "metadata": {},
     "output_type": "execute_result"
    }
   ],
   "source": [
    "m_europeo.shape"
   ]
  },
  {
   "cell_type": "code",
   "execution_count": 42,
   "id": "e4e6e054-84d2-41bf-bf83-96d0a9f45ccd",
   "metadata": {},
   "outputs": [
    {
     "data": {
      "text/plain": [
       "(2522, 460)"
      ]
     },
     "execution_count": 42,
     "metadata": {},
     "output_type": "execute_result"
    }
   ],
   "source": [
    "m_americano.shape"
   ]
  },
  {
   "cell_type": "markdown",
   "id": "34ac6be5-b132-415a-a686-c9d0feca4a25",
   "metadata": {},
   "source": [
    "## Apply the gap (close price)"
   ]
  },
  {
   "cell_type": "code",
   "execution_count": 43,
   "id": "9374f790-4c28-4163-a463-701a4f615eec",
   "metadata": {},
   "outputs": [],
   "source": [
    "optimalK = gap_statistic.OptimalK(n_jobs=4, parallel_backend='joblib')"
   ]
  },
  {
   "cell_type": "code",
   "execution_count": 44,
   "id": "09dd0f7a-bf95-4bd4-b420-22c5a0da3c7a",
   "metadata": {},
   "outputs": [
    {
     "data": {
      "text/html": [
       "<p>OptimalK(n_jobs=4, parallel_backend=\"joblib\")</p>"
      ],
      "text/plain": [
       "OptimalK(n_jobs=4, parallel_backend=\"joblib\")"
      ]
     },
     "execution_count": 44,
     "metadata": {},
     "output_type": "execute_result"
    }
   ],
   "source": [
    "optimalK"
   ]
  },
  {
   "cell_type": "markdown",
   "id": "f630118d-9a8c-4dcf-a978-49836c293df3",
   "metadata": {},
   "source": [
    "From the docs:\n",
    "\n",
    "\n",
    "X - A pandas dataframe or numpy array of data points of shape (n_samples, n_features)."
   ]
  },
  {
   "cell_type": "markdown",
   "id": "2513e45c-cf9a-4aba-a741-820f7764f782",
   "metadata": {},
   "source": [
    "### M Europeo"
   ]
  },
  {
   "cell_type": "code",
   "execution_count": 49,
   "id": "9bdca101-3547-4465-bb20-b3226183fda7",
   "metadata": {},
   "outputs": [
    {
     "data": {
      "text/plain": [
       "268"
      ]
     },
     "execution_count": 49,
     "metadata": {},
     "output_type": "execute_result"
    }
   ],
   "source": [
    "optimalK(X = m_europeo.loc[\"2012-01-03\":\"2013-01-01\"].T, n_refs = 20, cluster_array = range(1,270))"
   ]
  },
  {
   "cell_type": "code",
   "execution_count": 50,
   "id": "9b17938c-723e-4b03-a73e-d2391add58ca",
   "metadata": {},
   "outputs": [
    {
     "data": {
      "text/plain": [
       "268"
      ]
     },
     "execution_count": 50,
     "metadata": {},
     "output_type": "execute_result"
    }
   ],
   "source": [
    "optimalK(X = m_europeo.loc[\"2013-01-03\":\"2014-01-01\"].T, n_refs = 20, cluster_array = range(1,270))"
   ]
  },
  {
   "cell_type": "code",
   "execution_count": 51,
   "id": "899b13c1-518b-4fc6-baa3-2290d0334458",
   "metadata": {},
   "outputs": [
    {
     "data": {
      "text/plain": [
       "269"
      ]
     },
     "execution_count": 51,
     "metadata": {},
     "output_type": "execute_result"
    }
   ],
   "source": [
    "optimalK(X = m_europeo.loc[\"2014-01-03\":\"2015-01-01\"].T, n_refs = 20, cluster_array = range(1,270))"
   ]
  },
  {
   "cell_type": "code",
   "execution_count": 52,
   "id": "17567651-59cd-4248-9a51-69fc7e8723f8",
   "metadata": {},
   "outputs": [
    {
     "data": {
      "text/plain": [
       "269"
      ]
     },
     "execution_count": 52,
     "metadata": {},
     "output_type": "execute_result"
    }
   ],
   "source": [
    "optimalK(X = m_europeo.loc[\"2012-01-03\":\"2015-01-01\"].T, n_refs = 20, cluster_array = range(1,270))"
   ]
  },
  {
   "cell_type": "markdown",
   "id": "85fab289-1445-4de3-923f-51051a04927b",
   "metadata": {},
   "source": [
    "### M Americano"
   ]
  },
  {
   "cell_type": "code",
   "execution_count": 54,
   "id": "9979c89c-4b26-45f7-9cab-6a4a0f9c3743",
   "metadata": {},
   "outputs": [
    {
     "data": {
      "text/plain": [
       "458"
      ]
     },
     "execution_count": 54,
     "metadata": {},
     "output_type": "execute_result"
    }
   ],
   "source": [
    "optimalK(X = m_americano.loc[\"2012-01-03\":\"2013-01-01\"].T, n_refs = 20, cluster_array = range(1,460))"
   ]
  },
  {
   "cell_type": "code",
   "execution_count": 55,
   "id": "40602cae-5dcd-493a-83a4-5d54e44f0e65",
   "metadata": {},
   "outputs": [
    {
     "data": {
      "text/plain": [
       "459"
      ]
     },
     "execution_count": 55,
     "metadata": {},
     "output_type": "execute_result"
    }
   ],
   "source": [
    "optimalK(X = m_americano.loc[\"2013-01-03\":\"2014-01-01\"].T, n_refs = 20, cluster_array = range(1,460))"
   ]
  },
  {
   "cell_type": "code",
   "execution_count": 56,
   "id": "ba9f2cec-122a-42c5-bc14-bca2c5df4da0",
   "metadata": {},
   "outputs": [
    {
     "data": {
      "text/plain": [
       "455"
      ]
     },
     "execution_count": 56,
     "metadata": {},
     "output_type": "execute_result"
    }
   ],
   "source": [
    "optimalK(X = m_americano.loc[\"2012-01-03\":\"2014-01-01\"].T, n_refs = 20, cluster_array = range(1,460))"
   ]
  },
  {
   "cell_type": "markdown",
   "id": "80fe6235-7d44-45ae-8e99-0e0a53240a80",
   "metadata": {},
   "source": [
    "## Apply Gap (Returns)"
   ]
  },
  {
   "cell_type": "markdown",
   "id": "7891ab00-8466-4e2c-ac04-03a6e8aa1e0f",
   "metadata": {},
   "source": [
    "### M Europeo"
   ]
  },
  {
   "cell_type": "code",
   "execution_count": 57,
   "id": "cdba9874-1aab-4493-8357-602daad7c916",
   "metadata": {},
   "outputs": [
    {
     "data": {
      "text/plain": [
       "268"
      ]
     },
     "execution_count": 57,
     "metadata": {},
     "output_type": "execute_result"
    }
   ],
   "source": [
    "optimalK(X = m_europeo_returns.loc[\"2012-01-03\":\"2013-01-01\"].T, n_refs = 20, cluster_array = range(1,270))"
   ]
  },
  {
   "cell_type": "code",
   "execution_count": 58,
   "id": "0885dd26-b50f-47ef-a485-98204e3488f8",
   "metadata": {},
   "outputs": [
    {
     "data": {
      "text/plain": [
       "269"
      ]
     },
     "execution_count": 58,
     "metadata": {},
     "output_type": "execute_result"
    }
   ],
   "source": [
    "optimalK(X = m_europeo_returns.loc[\"2013-01-03\":\"2014-01-01\"].T, n_refs = 20, cluster_array = range(1,270))"
   ]
  },
  {
   "cell_type": "code",
   "execution_count": 60,
   "id": "de87e811-110e-4c0c-83ea-4ff87298147f",
   "metadata": {},
   "outputs": [
    {
     "data": {
      "text/plain": [
       "262"
      ]
     },
     "execution_count": 60,
     "metadata": {},
     "output_type": "execute_result"
    }
   ],
   "source": [
    "optimalK(X = m_europeo_returns.loc[\"2012-01-03\":\"2015-01-01\"].T, n_refs = 20, cluster_array = range(1,270))"
   ]
  },
  {
   "cell_type": "markdown",
   "id": "5c148d75-7bfa-4897-af10-c7990fe8cfde",
   "metadata": {},
   "source": [
    "### M Americano"
   ]
  },
  {
   "cell_type": "code",
   "execution_count": 62,
   "id": "29b69566-6bd4-40ae-b9aa-12167e30094f",
   "metadata": {},
   "outputs": [
    {
     "data": {
      "text/plain": [
       "439"
      ]
     },
     "execution_count": 62,
     "metadata": {},
     "output_type": "execute_result"
    }
   ],
   "source": [
    "optimalK(X = m_americano_returns.loc[\"2012-01-03\":\"2013-01-01\"].T, n_refs = 20, cluster_array = range(1,460))"
   ]
  },
  {
   "cell_type": "code",
   "execution_count": 63,
   "id": "5eb1f5e9-ea0d-4e61-abef-c744ce49299d",
   "metadata": {},
   "outputs": [
    {
     "data": {
      "text/plain": [
       "458"
      ]
     },
     "execution_count": 63,
     "metadata": {},
     "output_type": "execute_result"
    }
   ],
   "source": [
    "optimalK(X = m_americano_returns.loc[\"2013-01-03\":\"2014-01-01\"].T, n_refs = 20, cluster_array = range(1,460))"
   ]
  },
  {
   "cell_type": "code",
   "execution_count": 65,
   "id": "62ac928f-1c9d-4c3e-8076-6eeac7c41cf3",
   "metadata": {},
   "outputs": [
    {
     "data": {
      "text/plain": [
       "457"
      ]
     },
     "execution_count": 65,
     "metadata": {},
     "output_type": "execute_result"
    }
   ],
   "source": [
    "optimalK(X = m_americano_returns.loc[\"2012-01-03\":\"2015-01-01\"].T, n_refs = 20, cluster_array = range(1,460))"
   ]
  }
 ],
 "metadata": {
  "kernelspec": {
   "display_name": "Python 3",
   "language": "python",
   "name": "python3"
  },
  "language_info": {
   "codemirror_mode": {
    "name": "ipython",
    "version": 3
   },
   "file_extension": ".py",
   "mimetype": "text/x-python",
   "name": "python",
   "nbconvert_exporter": "python",
   "pygments_lexer": "ipython3",
   "version": "3.9.7"
  }
 },
 "nbformat": 4,
 "nbformat_minor": 5
}
