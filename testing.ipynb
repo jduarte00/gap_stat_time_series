{
 "cells": [
  {
   "cell_type": "markdown",
   "id": "f2d8396c-f346-4179-a0ab-d39bc730e285",
   "metadata": {},
   "source": [
    "# Applying the gap statistic"
   ]
  },
  {
   "cell_type": "code",
   "execution_count": 1,
   "id": "07e5469e-e151-4c19-9e2d-aa24eeda4326",
   "metadata": {},
   "outputs": [],
   "source": [
    "import pandas as pd\n",
    "# https://github.com/milesgranger/gap_statistic\n",
    "import gap_statistic"
   ]
  },
  {
   "cell_type": "markdown",
   "id": "43b18469-654e-4dfa-9897-1afec6bdfd61",
   "metadata": {},
   "source": [
    "## Loading Data"
   ]
  },
  {
   "cell_type": "code",
   "execution_count": 5,
   "id": "35e6696e-7972-43e1-b8c1-4e0d414f1c05",
   "metadata": {},
   "outputs": [],
   "source": [
    "m_europeo = pd.read_csv(\"/home/dum/Desktop/data/european_market_original_clean.csv\", parse_dates=True, index_col = \"Date\")\n",
    "m_americano = pd.read_csv(\"/home/dum/Desktop/data/sp_500_original_clean.csv\", parse_dates=True, index_col = \"Date\")"
   ]
  },
  {
   "cell_type": "code",
   "execution_count": 6,
   "id": "4916a44d-d5f0-44de-a402-4f290a20b39e",
   "metadata": {},
   "outputs": [
    {
     "data": {
      "text/plain": [
       "(2449, 270)"
      ]
     },
     "execution_count": 6,
     "metadata": {},
     "output_type": "execute_result"
    }
   ],
   "source": [
    "m_europeo.shape"
   ]
  },
  {
   "cell_type": "code",
   "execution_count": 7,
   "id": "e4e6e054-84d2-41bf-bf83-96d0a9f45ccd",
   "metadata": {},
   "outputs": [
    {
     "data": {
      "text/plain": [
       "(2522, 460)"
      ]
     },
     "execution_count": 7,
     "metadata": {},
     "output_type": "execute_result"
    }
   ],
   "source": [
    "m_americano.shape"
   ]
  },
  {
   "cell_type": "markdown",
   "id": "34ac6be5-b132-415a-a686-c9d0feca4a25",
   "metadata": {},
   "source": [
    "## Apply the gap"
   ]
  },
  {
   "cell_type": "code",
   "execution_count": 9,
   "id": "9374f790-4c28-4163-a463-701a4f615eec",
   "metadata": {},
   "outputs": [],
   "source": [
    "optimalK = gap_statistic.OptimalK(n_jobs=4, parallel_backend='joblib')"
   ]
  },
  {
   "cell_type": "code",
   "execution_count": 10,
   "id": "09dd0f7a-bf95-4bd4-b420-22c5a0da3c7a",
   "metadata": {},
   "outputs": [
    {
     "data": {
      "text/html": [
       "<p>OptimalK(n_jobs=4, parallel_backend=\"joblib\")</p>"
      ],
      "text/plain": [
       "OptimalK(n_jobs=4, parallel_backend=\"joblib\")"
      ]
     },
     "execution_count": 10,
     "metadata": {},
     "output_type": "execute_result"
    }
   ],
   "source": [
    "optimalK"
   ]
  },
  {
   "cell_type": "markdown",
   "id": "f630118d-9a8c-4dcf-a978-49836c293df3",
   "metadata": {},
   "source": [
    "From the docs:\n",
    "\n",
    "\n",
    "X - A pandas dataframe or numpy array of data points of shape (n_samples, n_features)."
   ]
  },
  {
   "cell_type": "code",
   "execution_count": 14,
   "id": "0a6814c1-837c-4915-b9e5-ac747aff6018",
   "metadata": {},
   "outputs": [
    {
     "data": {
      "text/plain": [
       "(2449, 270)"
      ]
     },
     "execution_count": 14,
     "metadata": {},
     "output_type": "execute_result"
    }
   ],
   "source": [
    "m_europeo.values.shape"
   ]
  },
  {
   "cell_type": "code",
   "execution_count": 19,
   "id": "9bdca101-3547-4465-bb20-b3226183fda7",
   "metadata": {},
   "outputs": [
    {
     "data": {
      "text/plain": [
       "46"
      ]
     },
     "execution_count": 19,
     "metadata": {},
     "output_type": "execute_result"
    }
   ],
   "source": [
    "optimalK(X = m_europeo, n_refs = 10, cluster_array = range(1,50))"
   ]
  },
  {
   "cell_type": "code",
   "execution_count": 21,
   "id": "9b17938c-723e-4b03-a73e-d2391add58ca",
   "metadata": {},
   "outputs": [
    {
     "data": {
      "text/plain": [
       "49"
      ]
     },
     "execution_count": 21,
     "metadata": {},
     "output_type": "execute_result"
    }
   ],
   "source": [
    "optimalK(X = m_europeo, n_refs = 20, cluster_array = range(1,50))"
   ]
  }
 ],
 "metadata": {
  "kernelspec": {
   "display_name": "Python 3",
   "language": "python",
   "name": "python3"
  },
  "language_info": {
   "codemirror_mode": {
    "name": "ipython",
    "version": 3
   },
   "file_extension": ".py",
   "mimetype": "text/x-python",
   "name": "python",
   "nbconvert_exporter": "python",
   "pygments_lexer": "ipython3",
   "version": "3.9.7"
  }
 },
 "nbformat": 4,
 "nbformat_minor": 5
}
